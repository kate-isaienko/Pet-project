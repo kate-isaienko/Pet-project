{
 "cells": [
  {
   "cell_type": "code",
   "execution_count": null,
   "metadata": {},
   "outputs": [],
   "source": [
    "import pandas as pd\n",
    "from sklearn.preprocessing import StandardScaler\n",
    "\n",
    "# Loading the dataset\n",
    "data = pd.read_excel(\"data.xlsx\")\n",
    "\n",
    "# Selecting relevant columns for loyalty-based segmentation\n",
    "loyalty_data = data[['PreviousPurchases', 'LoyaltyPoints']].copy()\n",
    "\n",
    "# Normalizing the continuous variables\n",
    "scaler = StandardScaler()\n",
    "loyalty_data[['PreviousPurchases', 'LoyaltyPoints']] = scaler.fit_transform(loyalty_data[['PreviousPurchases', 'LoyaltyPoints']])"
   ]
  },
  {
   "cell_type": "code",
   "execution_count": null,
   "metadata": {},
   "outputs": [],
   "source": [
    "from sklearn.cluster import KMeans\n",
    "from sklearn.metrics import silhouette_score\n",
    "import matplotlib.pyplot as plt\n",
    "\n",
    "# Using silhouette scores to determine the optimal number of clusters\n",
    "silhouette_scores = []\n",
    "for n_clusters in range(2, 11):\n",
    "    kmeans = KMeans(n_clusters=n_clusters, random_state=42)\n",
    "    kmeans.fit(loyalty_data)\n",
    "    silhouette_scores.append(silhouette_score(loyalty_data, kmeans.labels_))\n",
    "\n",
    "# Plotting silhouette scores\n",
    "plt.figure(figsize=(10, 6))\n",
    "plt.plot(range(2, 11), silhouette_scores, marker='o', linestyle='--')\n",
    "plt.title('Silhouette Scores for Optimal Number of Clusters')\n",
    "plt.xlabel('Number of clusters')\n",
    "plt.ylabel('Silhouette Score')\n",
    "plt.show()"
   ]
  },
  {
   "cell_type": "code",
   "execution_count": null,
   "metadata": {},
   "outputs": [],
   "source": [
    "# Defining the optimal number of clusters based on the silhouette score (0.41 the highest, for 4 clusters)\n",
    "optimal_clusters = 4  \n",
    "\n",
    "kmeans = KMeans(n_clusters=optimal_clusters, random_state=42)\n",
    "data['Cluster'] = kmeans.fit_predict(loyalty_data)\n",
    "\n",
    "# Analyzing the clusters\n",
    "cluster_centers = pd.DataFrame(scaler.inverse_transform(kmeans.cluster_centers_), columns=['PreviousPurchases', 'LoyaltyPoints'])\n",
    "cluster_centers['Cluster'] = range(optimal_clusters)\n",
    "print(cluster_centers)"
   ]
  },
  {
   "cell_type": "code",
   "execution_count": null,
   "metadata": {},
   "outputs": [],
   "source": [
    "# Grouping by clusters to analyze the segments\n",
    "segment_analysis = data.groupby('Cluster')[['PreviousPurchases', 'LoyaltyPoints']].mean()\n",
    "print(segment_analysis)"
   ]
  },
  {
   "cell_type": "code",
   "execution_count": null,
   "metadata": {},
   "outputs": [],
   "source": [
    "# Creating marketing lists for email campaigns considering clusters' means\n",
    "high_loyalty_customers = data[data['Cluster'] == 0]  \n",
    "high_frequency_customers = data[data['Cluster'] == 3]\n",
    "medium_loyalty_customers = data[data['Cluster'] == 2]  \n",
    "low_loyalty_customers = data[data['Cluster'] == 1]  \n",
    "\n",
    "# Exporting these lists to CSV files for use in marketing campaigns\n",
    "high_loyalty_customers.to_csv('high_loyalty_customers.csv', index=False)\n",
    "high_frequency_customers.to_csv('high_frequency_customers.csv', index=False)\n",
    "medium_loyalty_customers.to_csv('medium_loyalty_customers.csv', index=False)\n",
    "low_loyalty_customers.to_csv('low_loyalty_customers.csv', index=False)"
   ]
  }
 ],
 "metadata": {
  "language_info": {
   "name": "python"
  }
 },
 "nbformat": 4,
 "nbformat_minor": 2
}
